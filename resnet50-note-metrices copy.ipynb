{
 "cells": [
  {
   "cell_type": "code",
   "execution_count": 1,
   "metadata": {},
   "outputs": [],
   "source": [
    "# pip install matplotlib seaborn scikit-learn"
   ]
  },
  {
   "cell_type": "markdown",
   "metadata": {},
   "source": [
    "Step 1: Import Necessary Libraries"
   ]
  },
  {
   "cell_type": "code",
   "execution_count": 2,
   "metadata": {},
   "outputs": [],
   "source": [
    "import torch\n",
    "from torchvision import models, transforms\n",
    "from torch.utils.data import Dataset, DataLoader\n",
    "from PIL import Image\n",
    "import os\n",
    "import numpy as np\n",
    "# from sklearn.metrics import classification_report, confusion_matrix\n",
    "from sklearn.metrics import classification_report, confusion_matrix, precision_recall_curve, roc_curve, auc, roc_auc_score\n",
    "import seaborn as sns\n",
    "import matplotlib.pyplot as plt\n"
   ]
  },
  {
   "cell_type": "code",
   "execution_count": 3,
   "metadata": {},
   "outputs": [],
   "source": [
    "class CustomLogoDataset(Dataset):\n",
    "    def __init__(self, root_dir, transform=None):\n",
    "        self.root_dir = root_dir\n",
    "        self.transform = transform\n",
    "        self.images = []\n",
    "        self.labels = []\n",
    "\n",
    "        for label, subdir in enumerate(['Fake', 'Genuine']):\n",
    "            folder_path = os.path.join(self.root_dir, subdir)\n",
    "            for filename in os.listdir(folder_path):\n",
    "                if filename.endswith('.jpg') or filename.endswith('.png'):\n",
    "                    self.images.append(os.path.join(folder_path, filename))\n",
    "                    self.labels.append(label)\n",
    "\n",
    "    def __len__(self):\n",
    "        return len(self.images) \n",
    "\n",
    "    def __getitem__(self, idx):\n",
    "        img_path = self.images[idx]\n",
    "        image = Image.open(img_path).convert('RGB')\n",
    "        label = self.labels[idx]\n",
    "\n",
    "        if self.transform:\n",
    "            image = self.transform(image)\n",
    "\n",
    "        return image, label\n"
   ]
  },
  {
   "cell_type": "code",
   "execution_count": 4,
   "metadata": {},
   "outputs": [],
   "source": [
    "def load_trained_model(model_path):\n",
    "    model = models.resnet50(pretrained=False)\n",
    "    num_ftrs = model.fc.in_features\n",
    "    model.fc = torch.nn.Linear(num_ftrs, 2)  # Adjust for your number of classes\n",
    "    model.load_state_dict(torch.load(model_path, map_location=torch.device('cpu')))\n",
    "    model.eval()\n",
    "    return model\n"
   ]
  },
  {
   "cell_type": "code",
   "execution_count": 5,
   "metadata": {},
   "outputs": [],
   "source": [
    "image_transforms = transforms.Compose([\n",
    "    transforms.Resize((224, 224)),\n",
    "    transforms.ToTensor(),\n",
    "])\n",
    "\n",
    "# Adjust the path as necessary\n",
    "test_dataset = CustomLogoDataset('FakeReal Logo Detection dataset/test', transform=image_transforms)\n",
    "test_dataloader = DataLoader(test_dataset, batch_size=32, shuffle=False)\n"
   ]
  },
  {
   "cell_type": "code",
   "execution_count": 6,
   "metadata": {},
   "outputs": [],
   "source": [
    "def evaluate_model(model, dataloader):\n",
    "    y_pred = []\n",
    "    y_true = []\n",
    "    y_scores_positive = []  # Store the probabilities of the positive class\n",
    "\n",
    "    model = model.to(torch.device('cpu'))  # or 'cuda' if using GPU\n",
    "    with torch.no_grad():\n",
    "        for images, labels in dataloader:\n",
    "            outputs = model(images)\n",
    "            _, preds = torch.max(outputs, 1)\n",
    "            y_pred.extend(preds.view(-1).tolist())\n",
    "            y_true.extend(labels.view(-1).tolist())\n",
    "            probabilities = torch.nn.functional.softmax(outputs, dim=1)\n",
    "            y_scores_positive.extend(probabilities[:, 1].tolist())  # Get probabilities of the positive class\n",
    "\n",
    "    print(classification_report(y_true, y_pred, target_names=['Fake', 'Genuine']))\n",
    "\n",
    "    return y_true, y_pred, y_scores_positive\n"
   ]
  },
  {
   "cell_type": "code",
   "execution_count": 7,
   "metadata": {},
   "outputs": [],
   "source": [
    "def plot_confusion_matrix(y_true, y_pred):\n",
    "    cf_matrix = confusion_matrix(y_true, y_pred)\n",
    "    sns.heatmap(cf_matrix, annot=True, fmt='d', cmap='Blues', xticklabels=['Fake', 'Genuine'], yticklabels=['Fake', 'Genuine'])\n",
    "    plt.xlabel('Predicted')\n",
    "    plt.ylabel('True')\n",
    "    plt.show()\n"
   ]
  },
  {
   "cell_type": "code",
   "execution_count": 8,
   "metadata": {},
   "outputs": [],
   "source": [
    "import scikitplot as skplt\n",
    "from sklearn.metrics import precision_recall_curve, roc_curve, auc\n"
   ]
  },
  {
   "cell_type": "code",
   "execution_count": 9,
   "metadata": {},
   "outputs": [],
   "source": [
    "# def plot_precision_recall_curve(y_true, y_scores):\n",
    "#     y_scores = np.array(y_scores)  # Convert to numpy array if not already\n",
    "    \n",
    "#     if y_scores.shape[1] > 1:  # If y_scores contains probabilities for multiple classes\n",
    "#         precision, recall, _ = precision_recall_curve(y_true, y_scores[:, 1])\n",
    "#     else:  # If y_scores contains probabilities for only one class\n",
    "#         precision, recall, _ = precision_recall_curve(y_true, y_scores)\n",
    "    \n",
    "#     plt.step(recall, precision, color='b', alpha=0.2, where='post')\n",
    "#     plt.fill_between(recall, precision, step='post', alpha=0.2, color='b')\n",
    "#     plt.xlabel('Recall')\n",
    "#     plt.ylabel('Precision')\n",
    "#     plt.ylim([0.0, 1.05])\n",
    "#     plt.xlim([0.0, 1.0])\n",
    "#     plt.title('Precision-Recall curve')\n",
    "#     plt.show()\n"
   ]
  },
  {
   "cell_type": "code",
   "execution_count": 10,
   "metadata": {},
   "outputs": [],
   "source": [
    "# Function to plot precision-recall curve\n",
    "def plot_precision_recall_curve(y_true, y_scores):\n",
    "    precision, recall, _ = precision_recall_curve(y_true, y_scores)\n",
    "    plt.figure(figsize=(8, 6))\n",
    "    plt.plot(recall, precision, marker='.', label='Precision-Recall curve')\n",
    "    plt.xlabel('Recall')\n",
    "    plt.ylabel('Precision')\n",
    "    plt.title('Precision-Recall curve')\n",
    "    plt.legend()\n",
    "    plt.show()"
   ]
  },
  {
   "cell_type": "code",
   "execution_count": 11,
   "metadata": {},
   "outputs": [],
   "source": [
    "def plot_roc_curve(y_true, y_scores):\n",
    "    y_scores = np.array(y_scores)  # Convert to numpy array if not already\n",
    "    \n",
    "    if y_scores.shape[1] > 1:  # If y_scores contains probabilities for multiple classes\n",
    "        fpr, tpr, _ = roc_curve(y_true, y_scores[:, 1])\n",
    "    else:  # If y_scores contains probabilities for only one class\n",
    "        fpr, tpr, _ = roc_curve(y_true, y_scores)\n",
    "    \n",
    "    roc_auc = auc(fpr, tpr)\n",
    "    plt.figure()\n",
    "    plt.plot(fpr, tpr, color='darkorange', lw=2, label='ROC curve (area = %0.2f)' % roc_auc)\n",
    "    plt.plot([0, 1], [0, 1], color='navy', lw=2, linestyle='--')\n",
    "    plt.xlim([0.0, 1.0])\n",
    "    plt.ylim([0.0, 1.05])\n",
    "    plt.xlabel('False Positive Rate')\n",
    "    plt.ylabel('True Positive Rate')\n",
    "    plt.title('ROC Curve')\n",
    "    plt.legend(loc=\"lower right\")\n",
    "    plt.show()\n"
   ]
  },
  {
   "cell_type": "code",
   "execution_count": 12,
   "metadata": {},
   "outputs": [],
   "source": [
    "def plot_class_prediction_error(y_true, y_pred):\n",
    "    y_true = np.array(y_true)\n",
    "    y_pred = np.array(y_pred)\n",
    "\n",
    "    # Calculate prediction errors\n",
    "    errors = np.where(y_true != y_pred, 1, 0)\n",
    "\n",
    "    # Calculate error rate for each class\n",
    "    error_rates = []\n",
    "    classes = np.unique(y_true)\n",
    "    for class_label in classes:\n",
    "        class_errors = errors[y_true == class_label]\n",
    "        error_rate = np.mean(class_errors)\n",
    "        error_rates.append(error_rate)\n",
    "\n",
    "    # Plot the class prediction error\n",
    "    plt.figure(figsize=(8, 6))\n",
    "    plt.bar(classes, error_rates, color='skyblue')\n",
    "    plt.xlabel('Class')\n",
    "    plt.ylabel('Error Rate')\n",
    "    plt.title('Class Prediction Error')\n",
    "    plt.xticks(classes)\n",
    "    plt.ylim(0, 1)\n",
    "    plt.grid(axis='y', linestyle='--', alpha=0.7)\n",
    "    plt.show()\n"
   ]
  },
  {
   "cell_type": "code",
   "execution_count": 13,
   "metadata": {},
   "outputs": [
    {
     "name": "stderr",
     "output_type": "stream",
     "text": [
      "d:\\Python\\Python39\\lib\\site-packages\\torchvision\\models\\_utils.py:208: UserWarning: The parameter 'pretrained' is deprecated since 0.13 and may be removed in the future, please use 'weights' instead.\n",
      "  warnings.warn(\n",
      "d:\\Python\\Python39\\lib\\site-packages\\torchvision\\models\\_utils.py:223: UserWarning: Arguments other than a weight enum or `None` for 'weights' are deprecated since 0.13 and may be removed in the future. The current behavior is equivalent to passing `weights=None`.\n",
      "  warnings.warn(msg)\n"
     ]
    },
    {
     "name": "stdout",
     "output_type": "stream",
     "text": [
      "              precision    recall  f1-score   support\n",
      "\n",
      "        Fake       1.00      0.99      1.00       110\n",
      "     Genuine       0.98      1.00      0.99        55\n",
      "\n",
      "    accuracy                           0.99       165\n",
      "   macro avg       0.99      1.00      0.99       165\n",
      "weighted avg       0.99      0.99      0.99       165\n",
      "\n"
     ]
    },
    {
     "data": {
      "image/png": "[encoded data removed]",
      "text/plain": [
       "<Figure size 640x480 with 2 Axes>"
      ]
     },
     "metadata": {},
     "output_type": "display_data"
    },
    {
     "data": {
      "image/png": "[encoded data removed]",
      "text/plain": [
       "<Figure size 800x600 with 1 Axes>"
      ]
     },
     "metadata": {},
     "output_type": "display_data"
    },
    {
     "ename": "IndexError",
     "evalue": "tuple index out of range",
     "output_type": "error",
     "traceback": [
      "\u001b[1;31m---------------------------------------------------------------------------\u001b[0m",
      "\u001b[1;31mIndexError\u001b[0m                                Traceback (most recent call last)",
      "Cell \u001b[1;32mIn[13], line 19\u001b[0m\n\u001b[0;32m     14\u001b[0m plot_precision_recall_curve(y_true, y_scores_positive)\n\u001b[0;32m     16\u001b[0m \u001b[38;5;66;03m# plot_precision_recall_curve(y_true, y_scores)\u001b[39;00m\n\u001b[0;32m     17\u001b[0m \n\u001b[0;32m     18\u001b[0m \u001b[38;5;66;03m# Plot the ROC curve\u001b[39;00m\n\u001b[1;32m---> 19\u001b[0m \u001b[43mplot_roc_curve\u001b[49m\u001b[43m(\u001b[49m\u001b[43my_true\u001b[49m\u001b[43m,\u001b[49m\u001b[43m \u001b[49m\u001b[43my_scores_positive\u001b[49m\u001b[43m)\u001b[49m\n\u001b[0;32m     21\u001b[0m \u001b[38;5;66;03m# Plot the class prediction error\u001b[39;00m\n\u001b[0;32m     22\u001b[0m plot_class_prediction_error(y_true, y_pred)\n",
      "Cell \u001b[1;32mIn[11], line 4\u001b[0m, in \u001b[0;36mplot_roc_curve\u001b[1;34m(y_true, y_scores)\u001b[0m\n\u001b[0;32m      1\u001b[0m \u001b[38;5;28;01mdef\u001b[39;00m \u001b[38;5;21mplot_roc_curve\u001b[39m(y_true, y_scores):\n\u001b[0;32m      2\u001b[0m     y_scores \u001b[38;5;241m=\u001b[39m np\u001b[38;5;241m.\u001b[39marray(y_scores)  \u001b[38;5;66;03m# Convert to numpy array if not already\u001b[39;00m\n\u001b[1;32m----> 4\u001b[0m     \u001b[38;5;28;01mif\u001b[39;00m \u001b[43my_scores\u001b[49m\u001b[38;5;241;43m.\u001b[39;49m\u001b[43mshape\u001b[49m\u001b[43m[\u001b[49m\u001b[38;5;241;43m1\u001b[39;49m\u001b[43m]\u001b[49m \u001b[38;5;241m>\u001b[39m \u001b[38;5;241m1\u001b[39m:  \u001b[38;5;66;03m# If y_scores contains probabilities for multiple classes\u001b[39;00m\n\u001b[0;32m      5\u001b[0m         fpr, tpr, _ \u001b[38;5;241m=\u001b[39m roc_curve(y_true, y_scores[:, \u001b[38;5;241m1\u001b[39m])\n\u001b[0;32m      6\u001b[0m     \u001b[38;5;28;01melse\u001b[39;00m:  \u001b[38;5;66;03m# If y_scores contains probabilities for only one class\u001b[39;00m\n",
      "\u001b[1;31mIndexError\u001b[0m: tuple index out of range"
     ]
    }
   ],
   "source": [
    "# Set the path to your model\n",
    "model_path = 'fake_real_logo_detection_model.pth'\n",
    "model = load_trained_model(model_path)\n",
    "\n",
    "# Evaluate the model\n",
    "\n",
    "#y_true, y_pred, y_scores \n",
    "y_true, y_pred, y_scores_positive = evaluate_model(model, test_dataloader)\n",
    "\n",
    "# Plot the confusion matrix\n",
    "plot_confusion_matrix(y_true, y_pred)\n",
    "\n",
    "# Plot the precision-recall curve\n",
    "plot_precision_recall_curve(y_true, y_scores_positive)\n",
    "\n",
    "# plot_precision_recall_curve(y_true, y_scores)\n",
    "\n",
    "# Plot the ROC curve\n",
    "plot_roc_curve(y_true, y_scores_positive)\n",
    "\n",
    "# Plot the class prediction error\n",
    "plot_class_prediction_error(y_true, y_pred)\n"
   ]
  },
  {
   "cell_type": "code",
   "execution_count": null,
   "metadata": {},
   "outputs": [],
   "source": []
  }
 ],
 "metadata": {
  "kernelspec": {
   "display_name": "Python 3",
   "language": "python",
   "name": "python3"
  },
  "language_info": {
   "codemirror_mode": {
    "name": "ipython",
    "version": 3
   },
   "file_extension": ".py",
   "mimetype": "text/x-python",
   "name": "python",
   "nbconvert_exporter": "python",
   "pygments_lexer": "ipython3",
   "version": "3.9.0"
  }
 },
 "nbformat": 4,
 "nbformat_minor": 2
}
